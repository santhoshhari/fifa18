{
 "cells": [
  {
   "cell_type": "code",
   "execution_count": 21,
   "metadata": {
    "ExecuteTime": {
     "end_time": "2018-01-27T21:27:58.501353Z",
     "start_time": "2018-01-27T21:27:58.495256Z"
    },
    "collapsed": true
   },
   "outputs": [],
   "source": [
    "import feather\n",
    "import pandas as pd\n",
    "import numpy as np\n",
    "from sklearn.cluster import KMeans"
   ]
  },
  {
   "cell_type": "code",
   "execution_count": 2,
   "metadata": {
    "ExecuteTime": {
     "end_time": "2018-01-26T22:16:45.780255Z",
     "start_time": "2018-01-26T22:16:45.517883Z"
    },
    "collapsed": true
   },
   "outputs": [],
   "source": [
    "pl = feather.read_dataframe(\"data/player_list\")\n",
    "pd = feather.read_dataframe(\"data/player_details\")"
   ]
  },
  {
   "cell_type": "code",
   "execution_count": 3,
   "metadata": {
    "ExecuteTime": {
     "end_time": "2018-01-26T22:21:40.168731Z",
     "start_time": "2018-01-26T22:21:40.115752Z"
    },
    "collapsed": true
   },
   "outputs": [],
   "source": [
    "merged_data = pl.merge(pd, how=\"inner\", left_on=\"URL\", right_on=\"url\")"
   ]
  },
  {
   "cell_type": "code",
   "execution_count": 8,
   "metadata": {
    "ExecuteTime": {
     "end_time": "2018-01-27T02:08:37.082880Z",
     "start_time": "2018-01-27T02:08:37.076958Z"
    }
   },
   "outputs": [
    {
     "data": {
      "text/plain": [
       "Index(['index_x', 'ID', 'Name', 'FullName', 'Age', 'Nationality', 'Club',\n",
       "       'Image', 'Position', 'Overall', 'Potential', 'Value', 'Wage', 'URL',\n",
       "       'index_y', 'attacking_crossing', 'attacking_finishing',\n",
       "       'attacking_heading_accuracy', 'attacking_short_passing',\n",
       "       'attacking_volleys', 'defending_marking', 'defending_sliding_tackle',\n",
       "       'defending_standing_tackle', 'general_defend', 'general_dribble',\n",
       "       'general_pace', 'general_pass', 'general_physical', 'general_shot',\n",
       "       'goalkeeping_gk_diving', 'goalkeeping_gk_handling',\n",
       "       'goalkeeping_gk_kicking', 'goalkeeping_gk_positioning',\n",
       "       'goalkeeping_gk_reflexes', 'id', 'international_reputation',\n",
       "       'mentality_aggression', 'mentality_composure',\n",
       "       'mentality_interceptions', 'mentality_penalties',\n",
       "       'mentality_positioning', 'mentality_vision', 'movement_acceleration',\n",
       "       'movement_agility', 'movement_balance', 'movement_reactions',\n",
       "       'movement_sprint_speed', 'position_cam', 'position_cb', 'position_cdm',\n",
       "       'position_cf', 'position_cm', 'position_lam', 'position_lb',\n",
       "       'position_lcb', 'position_lcm', 'position_ldm', 'position_lf',\n",
       "       'position_lm', 'position_ls', 'position_lw', 'position_lwb',\n",
       "       'position_ram', 'position_rb', 'position_rcb', 'position_rcm',\n",
       "       'position_rdm', 'position_rf', 'position_rm', 'position_rs',\n",
       "       'position_rw', 'position_rwb', 'position_st', 'power_jumping',\n",
       "       'power_long_shots', 'power_shot_power', 'power_stamina',\n",
       "       'power_strength', 'preferred_foot', 'qualities', 'skill_ball_control',\n",
       "       'skill_curve', 'skill_dribbling', 'skill_fk_accuracy',\n",
       "       'skill_long_passing', 'skill_moves', 'traits', 'url', 'weak_foot',\n",
       "       'work_rate'],\n",
       "      dtype='object')"
      ]
     },
     "execution_count": 8,
     "metadata": {},
     "output_type": "execute_result"
    }
   ],
   "source": [
    "merged_data.columns"
   ]
  },
  {
   "cell_type": "code",
   "execution_count": 35,
   "metadata": {
    "ExecuteTime": {
     "end_time": "2018-01-27T21:37:42.222018Z",
     "start_time": "2018-01-27T21:37:42.200705Z"
    }
   },
   "outputs": [],
   "source": [
    "non_gk = merged_data[merged_data['Position'] != 'GK']\n",
    "non_gk.reset_index(inplace=True)"
   ]
  },
  {
   "cell_type": "code",
   "execution_count": 36,
   "metadata": {
    "ExecuteTime": {
     "end_time": "2018-01-27T21:37:44.694307Z",
     "start_time": "2018-01-27T21:37:44.683014Z"
    },
    "collapsed": true
   },
   "outputs": [],
   "source": [
    "sel_cols = ['attacking_crossing', 'attacking_finishing', 'attacking_heading_accuracy', 'attacking_short_passing',\n",
    "            'attacking_volleys', 'defending_marking', 'defending_sliding_tackle', 'defending_standing_tackle',\n",
    "            'general_defend', 'general_dribble', 'general_pace', 'general_pass', 'general_physical', 'general_shot',\n",
    "            'mentality_aggression', 'mentality_composure', 'mentality_interceptions', 'mentality_penalties',\n",
    "            'mentality_positioning', 'mentality_vision', 'movement_acceleration', 'movement_agility',\n",
    "            'movement_balance', 'movement_reactions', 'movement_sprint_speed', 'power_jumping', 'power_long_shots',\n",
    "            'power_shot_power', 'power_stamina', 'power_strength', 'skill_ball_control', 'skill_curve',\n",
    "            'skill_dribbling', 'skill_fk_accuracy', 'skill_long_passing', 'skill_moves']\n",
    "\n",
    "\n",
    "rem_cols = ['ID', 'Name', 'FullName', 'Age', 'Nationality', 'Club', 'Image', 'Overall', 'Potential', 'Position',\n",
    "            'Value', 'Wage', 'URL',\n",
    "            'goalkeeping_gk_diving', 'goalkeeping_gk_handling', 'goalkeeping_gk_kicking', 'goalkeeping_gk_positioning',\n",
    "            'goalkeeping_gk_reflexes', 'id', 'international_reputation', 'position_cam', 'position_cb',\n",
    "            'position_cdm', 'position_cf', 'position_cm', 'position_lam', 'position_lb', 'position_lcb',\n",
    "            'position_lcm', 'position_ldm', 'position_lf', 'position_lm', 'position_ls', 'position_lw',\n",
    "            'position_lwb', 'position_ram', 'position_rb', 'position_rcb', 'position_rcm', 'position_rdm',\n",
    "            'position_rf', 'position_rm', 'position_rs', 'position_rw', 'position_rwb', 'position_st', 'preferred_foot',\n",
    "            'qualities','traits', 'url', 'weak_foot', 'work_rate']"
   ]
  },
  {
   "cell_type": "code",
   "execution_count": 37,
   "metadata": {
    "ExecuteTime": {
     "end_time": "2018-01-27T21:37:45.440046Z",
     "start_time": "2018-01-27T21:37:45.217787Z"
    }
   },
   "outputs": [],
   "source": [
    "X = np.array(non_gk[sel_cols].apply(lambda x: [int(elem) for elem in x], axis=0))"
   ]
  },
  {
   "cell_type": "code",
   "execution_count": 38,
   "metadata": {
    "ExecuteTime": {
     "end_time": "2018-01-27T21:37:45.774421Z",
     "start_time": "2018-01-27T21:37:45.771385Z"
    }
   },
   "outputs": [],
   "source": [
    "kmeans = KMeans(n_clusters=8, n_init=10, max_iter=100, n_jobs=-1)"
   ]
  },
  {
   "cell_type": "code",
   "execution_count": 39,
   "metadata": {
    "ExecuteTime": {
     "end_time": "2018-01-27T21:37:49.096568Z",
     "start_time": "2018-01-27T21:37:48.168605Z"
    }
   },
   "outputs": [],
   "source": [
    "clusters = kmeans.fit_predict(X)"
   ]
  },
  {
   "cell_type": "code",
   "execution_count": 50,
   "metadata": {
    "ExecuteTime": {
     "end_time": "2018-01-27T23:16:39.954085Z",
     "start_time": "2018-01-27T23:16:39.931484Z"
    }
   },
   "outputs": [],
   "source": [
    "clustered_players = non_gk.merge(pd.DataFrame(clusters, columns=['cluster']), how='inner', left_index=True, right_index=True)"
   ]
  },
  {
   "cell_type": "code",
   "execution_count": 53,
   "metadata": {
    "ExecuteTime": {
     "end_time": "2018-01-27T23:17:35.916613Z",
     "start_time": "2018-01-27T23:17:35.911031Z"
    }
   },
   "outputs": [],
   "source": [
    "clustered_players['cluster'] = clustered_players['cluster'].astype('category')"
   ]
  },
  {
   "cell_type": "code",
   "execution_count": 55,
   "metadata": {
    "ExecuteTime": {
     "end_time": "2018-01-27T23:19:06.388377Z",
     "start_time": "2018-01-27T23:19:06.376030Z"
    }
   },
   "outputs": [
    {
     "data": {
      "text/plain": [
       "0    2878\n",
       "1    2497\n",
       "5    1983\n",
       "4    1882\n",
       "2    1866\n",
       "3    1705\n",
       "6    1601\n",
       "7    1569\n",
       "Name: cluster, dtype: int64"
      ]
     },
     "execution_count": 55,
     "metadata": {},
     "output_type": "execute_result"
    }
   ],
   "source": [
    "pd.value_counts(clustered_players['cluster'])"
   ]
  },
  {
   "cell_type": "code",
   "execution_count": 62,
   "metadata": {
    "ExecuteTime": {
     "end_time": "2018-01-28T00:48:01.839778Z",
     "start_time": "2018-01-28T00:48:01.832871Z"
    }
   },
   "outputs": [
    {
     "data": {
      "text/plain": [
       "8"
      ]
     },
     "execution_count": 62,
     "metadata": {},
     "output_type": "execute_result"
    }
   ],
   "source": [
    "kmeans."
   ]
  },
  {
   "cell_type": "code",
   "execution_count": null,
   "metadata": {
    "collapsed": true
   },
   "outputs": [],
   "source": []
  }
 ],
 "metadata": {
  "anaconda-cloud": {},
  "kernelspec": {
   "display_name": "Python [conda env:fastai]",
   "language": "python",
   "name": "conda-env-fastai-py"
  },
  "language_info": {
   "codemirror_mode": {
    "name": "ipython",
    "version": 3
   },
   "file_extension": ".py",
   "mimetype": "text/x-python",
   "name": "python",
   "nbconvert_exporter": "python",
   "pygments_lexer": "ipython3",
   "version": "3.6.2"
  },
  "toc": {
   "nav_menu": {},
   "number_sections": true,
   "sideBar": true,
   "skip_h1_title": false,
   "toc_cell": false,
   "toc_position": {},
   "toc_section_display": "block",
   "toc_window_display": false
  },
  "varInspector": {
   "cols": {
    "lenName": 16,
    "lenType": 16,
    "lenVar": 40
   },
   "kernels_config": {
    "python": {
     "delete_cmd_postfix": "",
     "delete_cmd_prefix": "del ",
     "library": "var_list.py",
     "varRefreshCmd": "print(var_dic_list())"
    },
    "r": {
     "delete_cmd_postfix": ") ",
     "delete_cmd_prefix": "rm(",
     "library": "var_list.r",
     "varRefreshCmd": "cat(var_dic_list()) "
    }
   },
   "types_to_exclude": [
    "module",
    "function",
    "builtin_function_or_method",
    "instance",
    "_Feature"
   ],
   "window_display": false
  }
 },
 "nbformat": 4,
 "nbformat_minor": 2
}
