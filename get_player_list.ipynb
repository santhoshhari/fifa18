{
 "cells": [
  {
   "cell_type": "code",
   "execution_count": 18,
   "metadata": {
    "ExecuteTime": {
     "end_time": "2018-01-25T20:56:37.961142Z",
     "start_time": "2018-01-25T20:56:37.955808Z"
    },
    "collapsed": true
   },
   "outputs": [],
   "source": [
    "import asyncio\n",
    "import aiohttp\n",
    "import pandas as pd\n",
    "from bs4 import BeautifulSoup\n",
    "import requests\n",
    "import feather\n",
    "import time\n",
    "import random"
   ]
  },
  {
   "cell_type": "code",
   "execution_count": 9,
   "metadata": {
    "ExecuteTime": {
     "end_time": "2018-01-25T20:50:12.307757Z",
     "start_time": "2018-01-25T20:50:12.279599Z"
    }
   },
   "outputs": [],
   "source": [
    "async def _fetch(session, url):\n",
    "    async with session.get(url, timeout=60 * 60) as response:\n",
    "        return await response.text()\n",
    "\n",
    "\n",
    "async def _fetch_all(session, urls, loop):\n",
    "    results = await asyncio.gather(\n",
    "        *[_fetch(session, url) for url in urls],\n",
    "        return_exceptions=True  # so we can deal with exceptions later\n",
    "    )\n",
    "\n",
    "    return results\n",
    "\n",
    "def _get_htmls(urls):\n",
    "    headers = {'User-Agent': 'Mozilla/5.0 (Macintosh; Intel Mac OS X 10_11_5) AppleWebKit/537.36 (KHTML, like Gecko) Chrome/50.0.2661.102 Safari/537.36'}\n",
    "    if len(urls) > 1:\n",
    "        loop = asyncio.get_event_loop()\n",
    "        connector = aiohttp.TCPConnector(limit=100)\n",
    "        with aiohttp.ClientSession(loop=loop, connector=connector) as session:\n",
    "            htmls = loop.run_until_complete(_fetch_all(session, urls, loop))\n",
    "        raw_result = dict(zip(urls, htmls))\n",
    "    else:\n",
    "        raw_result = {urls[0]: requests.get(urls[0], headers=headers).text}\n",
    "    return raw_result"
   ]
  },
  {
   "cell_type": "code",
   "execution_count": 25,
   "metadata": {
    "ExecuteTime": {
     "end_time": "2018-01-25T21:16:04.732820Z",
     "start_time": "2018-01-25T21:16:04.728965Z"
    },
    "collapsed": true
   },
   "outputs": [],
   "source": [
    "url = 'https://sofifa.com/players'\n",
    "url_list = [url] + [url + '?offset=' + str(i*80) for i in range(1,250)]"
   ]
  },
  {
   "cell_type": "code",
   "execution_count": 27,
   "metadata": {
    "ExecuteTime": {
     "end_time": "2018-01-25T21:19:39.096452Z",
     "start_time": "2018-01-25T21:19:14.102996Z"
    }
   },
   "outputs": [],
   "source": [
    "pl_list = _get_htmls(url_list)"
   ]
  },
  {
   "cell_type": "code",
   "execution_count": 37,
   "metadata": {
    "ExecuteTime": {
     "end_time": "2018-01-25T21:24:56.398228Z",
     "start_time": "2018-01-25T21:24:56.298858Z"
    },
    "collapsed": true
   },
   "outputs": [],
   "source": [
    "def player_list_from_html(url_text):\n",
    "    soup = BeautifulSoup(url_text, 'html.parser')\n",
    "    player_image_list = soup.findAll('img', attrs={'class': 'player-check'})\n",
    "    player_image = [pim['data-src'] for pim in player_image_list]\n",
    "    player_id = [pim['id'] for pim in player_image_list]\n",
    "    player_details = soup.findAll('div', attrs={'class': 'col-name'})\n",
    "    player_profile = [pld for i, pld in enumerate(player_details) if i % 2 == 0]\n",
    "    club_details = [pld for i, pld in enumerate(player_details) if i % 2 == 1]\n",
    "    player_country = [pld.findAll('a')[0]['title'] for pld in player_profile]\n",
    "    player_club = [pld.findAll('a')[0].text.strip() for pld in club_details]\n",
    "    player_name = [pld.findAll('a')[1].text.strip() for pld in player_profile]\n",
    "    player_fname = [pld.findAll('a')[1]['title'] for pld in player_profile]\n",
    "    player_url = ['https://sofifa.com' + pld.findAll('a')[1]['href'] for pld in player_profile]\n",
    "    player_position_list = [pld.findAll('a')[2:] for pld in player_profile]\n",
    "    player_position = []\n",
    "    for pplist in player_position_list:\n",
    "        player_position.append([elem.text.strip() for elem in pplist])\n",
    "\n",
    "\n",
    "    player_overall_list = soup.findAll('div', attrs={'class': 'col-digit col-oa'})\n",
    "    player_overall = [oa.find('span').text.strip() for oa in player_overall_list]\n",
    "    player_poten_list = soup.findAll('div', attrs={'class': 'col-digit col-pt'})\n",
    "    player_poten = [pt.find('span').text.strip() for pt in player_poten_list]\n",
    "    player_age = [pa.text.strip() for pa in soup.findAll('div', attrs={'class': 'col-digit col-ae'})]\n",
    "    player_value = [val.text.strip() for val in soup.findAll('div', attrs={'class': 'col-digit col-vl'})]\n",
    "    player_wage = [wg.text.strip() for wg in soup.findAll('div', attrs={'class': 'col-digit col-wg'})]\n",
    "\n",
    "    data_list = [player_id, player_name, player_fname, player_age, player_country, player_club,\n",
    "                                    player_image, player_position, player_overall, player_poten, player_value,\n",
    "                                    player_wage, player_url]\n",
    "\n",
    "    player_df = pd.DataFrame(list(zip(*data_list)), columns=col_names)\n",
    "\n",
    "    return player_df"
   ]
  },
  {
   "cell_type": "code",
   "execution_count": 39,
   "metadata": {
    "ExecuteTime": {
     "end_time": "2018-01-25T21:32:26.487320Z",
     "start_time": "2018-01-25T21:28:54.250735Z"
    }
   },
   "outputs": [],
   "source": [
    "col_names = ['ID', 'Name', 'FullName', 'Age', 'Nationality', 'Club', 'Image', 'Position', 'Overall', 'Potential',\n",
    "             'Value', 'Wage', 'URL']\n",
    "data = pd.DataFrame(columns=col_names)\n",
    "\n",
    "for elem in pl_list.values():\n",
    "    data = data.append(player_list_from_html(elem), ignore_index=True)"
   ]
  },
  {
   "cell_type": "code",
   "execution_count": 45,
   "metadata": {
    "ExecuteTime": {
     "end_time": "2018-01-25T21:34:06.240844Z",
     "start_time": "2018-01-25T21:34:06.225529Z"
    }
   },
   "outputs": [],
   "source": [
    "data['Position'] = data.Position.apply(lambda x: ', '.join(x))"
   ]
  },
  {
   "cell_type": "code",
   "execution_count": 50,
   "metadata": {
    "ExecuteTime": {
     "end_time": "2018-01-25T21:35:15.015366Z",
     "start_time": "2018-01-25T21:35:14.963105Z"
    }
   },
   "outputs": [],
   "source": [
    "data = data.drop_duplicates()\n",
    "data.reset_index(inplace=True)"
   ]
  },
  {
   "cell_type": "code",
   "execution_count": 51,
   "metadata": {
    "ExecuteTime": {
     "end_time": "2018-01-25T21:35:17.154610Z",
     "start_time": "2018-01-25T21:35:17.149960Z"
    }
   },
   "outputs": [
    {
     "data": {
      "text/plain": [
       "(18005, 14)"
      ]
     },
     "execution_count": 51,
     "metadata": {},
     "output_type": "execute_result"
    }
   ],
   "source": [
    "data.shape"
   ]
  },
  {
   "cell_type": "code",
   "execution_count": 53,
   "metadata": {
    "ExecuteTime": {
     "end_time": "2018-01-25T21:37:16.849348Z",
     "start_time": "2018-01-25T21:37:16.689160Z"
    }
   },
   "outputs": [],
   "source": [
    "data.to_feather(\"player_list\")\n",
    "data.to_csv(\"player_list.csv\", index=False)"
   ]
  },
  {
   "cell_type": "code",
   "execution_count": null,
   "metadata": {
    "collapsed": true
   },
   "outputs": [],
   "source": []
  }
 ],
 "metadata": {
  "kernelspec": {
   "display_name": "Python 3",
   "language": "python",
   "name": "python3"
  },
  "language_info": {
   "codemirror_mode": {
    "name": "ipython",
    "version": 3
   },
   "file_extension": ".py",
   "mimetype": "text/x-python",
   "name": "python",
   "nbconvert_exporter": "python",
   "pygments_lexer": "ipython3",
   "version": "3.6.2"
  },
  "varInspector": {
   "cols": {
    "lenName": 16,
    "lenType": 16,
    "lenVar": 40
   },
   "kernels_config": {
    "python": {
     "delete_cmd_postfix": "",
     "delete_cmd_prefix": "del ",
     "library": "var_list.py",
     "varRefreshCmd": "print(var_dic_list())"
    },
    "r": {
     "delete_cmd_postfix": ") ",
     "delete_cmd_prefix": "rm(",
     "library": "var_list.r",
     "varRefreshCmd": "cat(var_dic_list()) "
    }
   },
   "position": {
    "height": "261px",
    "left": "1093px",
    "right": "20px",
    "top": "44px",
    "width": "350px"
   },
   "types_to_exclude": [
    "module",
    "function",
    "builtin_function_or_method",
    "instance",
    "_Feature"
   ],
   "window_display": false
  }
 },
 "nbformat": 4,
 "nbformat_minor": 2
}
