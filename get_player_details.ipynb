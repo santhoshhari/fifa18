{
 "cells": [
  {
   "cell_type": "code",
   "execution_count": 1,
   "metadata": {
    "ExecuteTime": {
     "end_time": "2018-01-25T22:49:01.119770Z",
     "start_time": "2018-01-25T22:48:58.766201Z"
    },
    "collapsed": true
   },
   "outputs": [],
   "source": [
    "import asyncio\n",
    "import aiohttp\n",
    "import pandas as pd\n",
    "from bs4 import BeautifulSoup\n",
    "import requests\n",
    "import feather"
   ]
  },
  {
   "cell_type": "code",
   "execution_count": 2,
   "metadata": {
    "ExecuteTime": {
     "end_time": "2018-01-25T22:49:01.161086Z",
     "start_time": "2018-01-25T22:49:01.136024Z"
    },
    "collapsed": true
   },
   "outputs": [],
   "source": [
    "async def _fetch(session, url):\n",
    "    async with session.get(url, timeout=60 * 60) as response:\n",
    "        return await response.text()\n",
    "\n",
    "\n",
    "async def _fetch_all(session, urls, loop):\n",
    "    results = await asyncio.gather(\n",
    "        *[_fetch(session, url) for url in urls],\n",
    "        return_exceptions=True  # so we can deal with exceptions later\n",
    "    )\n",
    "\n",
    "    return results\n",
    "\n",
    "def _get_htmls(urls):\n",
    "    headers = {'User-Agent': 'Mozilla/5.0 (Macintosh; Intel Mac OS X 10_11_5) AppleWebKit/537.36 (KHTML, like Gecko) Chrome/50.0.2661.102 Safari/537.36'}\n",
    "    if len(urls) > 1:\n",
    "        loop = asyncio.get_event_loop()\n",
    "        connector = aiohttp.TCPConnector(limit=100)\n",
    "        with aiohttp.ClientSession(loop=loop, connector=connector) as session:\n",
    "            htmls = loop.run_until_complete(_fetch_all(session, urls, loop))\n",
    "        raw_result = dict(zip(urls, htmls))\n",
    "    else:\n",
    "        raw_result = requests.get(urls[0], headers=headers).text\n",
    "    return raw_result"
   ]
  },
  {
   "cell_type": "code",
   "execution_count": 3,
   "metadata": {
    "ExecuteTime": {
     "end_time": "2018-01-25T22:49:05.021644Z",
     "start_time": "2018-01-25T22:49:04.963130Z"
    },
    "collapsed": true
   },
   "outputs": [],
   "source": [
    "pl = feather.read_dataframe(\"player_list\")"
   ]
  },
  {
   "cell_type": "code",
   "execution_count": 4,
   "metadata": {
    "ExecuteTime": {
     "end_time": "2018-01-25T22:49:05.648560Z",
     "start_time": "2018-01-25T22:49:05.637245Z"
    }
   },
   "outputs": [
    {
     "data": {
      "text/plain": [
       "18005"
      ]
     },
     "execution_count": 4,
     "metadata": {},
     "output_type": "execute_result"
    }
   ],
   "source": [
    "len(pl)"
   ]
  },
  {
   "cell_type": "code",
   "execution_count": 5,
   "metadata": {
    "ExecuteTime": {
     "end_time": "2018-01-25T23:28:29.942382Z",
     "start_time": "2018-01-25T22:49:06.985173Z"
    },
    "collapsed": true
   },
   "outputs": [],
   "source": [
    "pl_dict = _get_htmls(list(pl['URL']))"
   ]
  },
  {
   "cell_type": "code",
   "execution_count": 7,
   "metadata": {
    "ExecuteTime": {
     "end_time": "2018-01-25T23:30:38.385341Z",
     "start_time": "2018-01-25T23:30:38.380479Z"
    }
   },
   "outputs": [
    {
     "data": {
      "text/plain": [
       "(18005, 18005)"
      ]
     },
     "execution_count": 7,
     "metadata": {},
     "output_type": "execute_result"
    }
   ],
   "source": [
    "len(pl_dict), len(pl) # Duplicates in player list"
   ]
  },
  {
   "cell_type": "code",
   "execution_count": 8,
   "metadata": {
    "ExecuteTime": {
     "end_time": "2018-01-25T23:30:54.679107Z",
     "start_time": "2018-01-25T23:30:54.658964Z"
    },
    "collapsed": true
   },
   "outputs": [],
   "source": [
    "col_names = ['attacking_crossing', 'attacking_finishing', 'attacking_heading_accuracy', 'attacking_short_passing',\n",
    "             'attacking_volleys', 'defending_marking', 'defending_sliding_tackle', 'defending_standing_tackle',\n",
    "             'general_defend', 'general_dribble', 'general_pace', 'general_pass', 'general_physical', 'general_shot',\n",
    "             'goalkeeping_gk_diving', 'goalkeeping_gk_handling', 'goalkeeping_gk_kicking', 'goalkeeping_gk_positioning',\n",
    "             'goalkeeping_gk_reflexes', 'id', 'international_reputation', 'mentality_aggression', 'mentality_composure',\n",
    "             'mentality_interceptions', 'mentality_penalties', 'mentality_positioning', 'mentality_vision',\n",
    "             'movement_acceleration', 'movement_agility', 'movement_balance', 'movement_reactions',\n",
    "             'movement_sprint_speed', 'position_cam', 'position_cb', 'position_cdm', 'position_cf', 'position_cm',\n",
    "             'position_lam', 'position_lb', 'position_lcb', 'position_lcm', 'position_ldm', 'position_lf',\n",
    "             'position_lm', 'position_ls', 'position_lw', 'position_lwb', 'position_ram', 'position_rb', 'position_rcb',\n",
    "             'position_rcm', 'position_rdm', 'position_rf', 'position_rm', 'position_rs', 'position_rw', 'position_rwb',\n",
    "             'position_st', 'power_jumping', 'power_long_shots', 'power_shot_power', 'power_stamina', 'power_strength',\n",
    "             'preferred_foot', 'qualities', 'skill_ball_control', 'skill_curve', 'skill_dribbling',\n",
    "             'skill_fk_accuracy', 'skill_long_passing', 'skill_moves', 'traits', 'url', 'weak_foot', 'work_rate']\n",
    "\n",
    "data = pd.DataFrame(columns=col_names)"
   ]
  },
  {
   "cell_type": "code",
   "execution_count": 9,
   "metadata": {
    "ExecuteTime": {
     "end_time": "2018-01-25T23:31:11.366048Z",
     "start_time": "2018-01-25T23:31:11.230285Z"
    },
    "collapsed": true
   },
   "outputs": [],
   "source": [
    "\n",
    "def get_player_detail(html_text):\n",
    "    if len(html_text)==0:\n",
    "        return 'Empty String'\n",
    "    soup = BeautifulSoup(html_text, 'html.parser')\n",
    "    attr_dict = dict()\n",
    "    web = [elem[1].text for elem in enumerate(soup.findAll('script')) if 'pointPAC' in elem[1].text][0]\n",
    "    attr_dict['general_pace'] = web[web.find('pointPAC') + 11:web.find('pointPAC') + 13]\n",
    "    attr_dict['general_shot'] = web[web.find('pointSHO') + 11:web.find('pointSHO') + 13]\n",
    "    attr_dict['general_pass'] = web[web.find('pointPAS') + 11:web.find('pointPAS') + 13]\n",
    "    attr_dict['general_dribble'] = web[web.find('pointDRI') + 11:web.find('pointDRI') + 13]\n",
    "    attr_dict['general_defend'] = web[web.find('pointDEF') + 11:web.find('pointDEF') + 13]\n",
    "    attr_dict['general_physical'] = web[web.find('pointPHY') + 11:web.find('pointPHY') + 13]\n",
    "    attr = soup.findAll('div', attrs={'class': 'column col-3 mb-20'})\n",
    "    for elem in enumerate(attr):\n",
    "        try:\n",
    "            cat = elem[1].find('h5').text.lower()\n",
    "            if cat == 'traits':\n",
    "                attr_dict['traits'] = [e[1].text.lower() for e in enumerate(elem[1].findAll('li'))]\n",
    "            else:\n",
    "                for e in enumerate(elem[1].findAll('li')):\n",
    "                    attr_dict[cat + '_' + e[1].text.strip().split(' ', 1)[1].lower().replace(\" \", \"_\")] = \\\n",
    "                        e[1].text.strip().split(' ', 1)[0]\n",
    "        except:\n",
    "            attr_dict['traits'] = 'na'\n",
    "\n",
    "    high_attr = soup.findAll('div', attrs={'class': 'teams'})\n",
    "    for e in enumerate(high_attr[0].findAll('ul', attrs={'class': 'pl'})[0].findAll('li')[:5]):\n",
    "        attr_dict[e[1].text.strip().split('\\n')[0].lower().replace(\" \", \"_\").strip()] = \\\n",
    "            e[1].text.strip().split('\\n')[1].lower()\n",
    "\n",
    "    attr_dict['qualities'] = soup.findAll('div', attrs={'class': ''})[1].text.strip().lower().split(u\"\\xa0#\")\n",
    "\n",
    "    try:\n",
    "        for row in soup.find(\"table\", attrs={'class': 'table-hover'}).find('tbody').findAll('tr'):\n",
    "            col = row.findAll('td')\n",
    "            pos = col[0].text.strip().replace('\\n', ' ')\n",
    "            val = col[1].text.strip()\n",
    "            for p in pos.lower().split(' '):\n",
    "                attr_dict['position_' + p] = val\n",
    "    except:\n",
    "        attr_dict.update(\n",
    "            dict(position_cam='-1', position_cb='-1', position_cdm='-1', position_cf='-1', position_cm='-1',\n",
    "                 position_lam='-1', position_lb='-1', position_lcb='-1', position_lcm='-1', position_ldm='-1',\n",
    "                 position_lf='-1', position_lm='-1', position_ls='-1', position_lw='-1', position_lwb='-1',\n",
    "                 position_ram='-1', position_rb='-1', position_rcb='-1', position_rcm='-1', position_rdm='-1',\n",
    "                 position_rf='-1', position_rm='-1', position_rs='-1', position_rw='-1', position_rwb='-1',\n",
    "                 position_st='-1'))\n",
    "\n",
    "    return attr_dict"
   ]
  },
  {
   "cell_type": "code",
   "execution_count": 10,
   "metadata": {
    "ExecuteTime": {
     "end_time": "2018-01-26T00:23:58.770569Z",
     "start_time": "2018-01-25T23:31:27.616700Z"
    }
   },
   "outputs": [],
   "source": [
    "target_file_name = 'player_details.csv'\n",
    "try:\n",
    "    for player_url in pl['URL']:\n",
    "        res = get_player_detail(pl_dict[player_url])\n",
    "        failed_urls = list()\n",
    "        if res == 'Empty String':\n",
    "            failed_urls.append(player_url)\n",
    "            continue\n",
    "        res['id'] = player_url[player_url.find('/player/') + 8:]\n",
    "        res['url'] = player_url\n",
    "        data = data.append(res, ignore_index=True)\n",
    "except Exception as e:\n",
    "    print('Error: ' + str(e))"
   ]
  },
  {
   "cell_type": "code",
   "execution_count": 13,
   "metadata": {
    "ExecuteTime": {
     "end_time": "2018-01-26T00:25:28.654356Z",
     "start_time": "2018-01-26T00:25:28.649858Z"
    }
   },
   "outputs": [
    {
     "data": {
      "text/plain": [
       "18005"
      ]
     },
     "execution_count": 13,
     "metadata": {},
     "output_type": "execute_result"
    }
   ],
   "source": [
    "len(data)"
   ]
  },
  {
   "cell_type": "code",
   "execution_count": 14,
   "metadata": {
    "ExecuteTime": {
     "end_time": "2018-01-26T00:25:44.642754Z",
     "start_time": "2018-01-26T00:25:44.607247Z"
    },
    "collapsed": true
   },
   "outputs": [],
   "source": [
    "data['qualities'] = data.qualities.apply(lambda x: ', '.join(x).strip('#'))\n",
    "data['traits'] = data.traits.apply(lambda x: ', '.join(x))"
   ]
  },
  {
   "cell_type": "code",
   "execution_count": 15,
   "metadata": {
    "ExecuteTime": {
     "end_time": "2018-01-26T00:26:00.885680Z",
     "start_time": "2018-01-26T00:26:00.415457Z"
    }
   },
   "outputs": [],
   "source": [
    "data = data.drop_duplicates()\n",
    "data.reset_index(inplace=True)\n",
    "data.to_feather(\"player_details\")\n",
    "data = feather.read_dataframe(\"player_details\")"
   ]
  },
  {
   "cell_type": "code",
   "execution_count": 19,
   "metadata": {
    "ExecuteTime": {
     "end_time": "2018-01-26T00:26:58.054585Z",
     "start_time": "2018-01-26T00:26:58.050770Z"
    }
   },
   "outputs": [
    {
     "data": {
      "text/plain": [
       "18005"
      ]
     },
     "execution_count": 19,
     "metadata": {},
     "output_type": "execute_result"
    }
   ],
   "source": [
    "len(data)"
   ]
  },
  {
   "cell_type": "code",
   "execution_count": 20,
   "metadata": {
    "ExecuteTime": {
     "end_time": "2018-01-26T00:27:14.068271Z",
     "start_time": "2018-01-26T00:27:14.056145Z"
    }
   },
   "outputs": [
    {
     "data": {
      "text/plain": [
       "set()"
      ]
     },
     "execution_count": 20,
     "metadata": {},
     "output_type": "execute_result"
    }
   ],
   "source": [
    "set(pl['URL']).difference(set(data['url']))"
   ]
  },
  {
   "cell_type": "code",
   "execution_count": null,
   "metadata": {
    "collapsed": true
   },
   "outputs": [],
   "source": [
    "data.to_csv()"
   ]
  }
 ],
 "metadata": {
  "kernelspec": {
   "display_name": "Python 3",
   "language": "python",
   "name": "python3"
  },
  "language_info": {
   "codemirror_mode": {
    "name": "ipython",
    "version": 3
   },
   "file_extension": ".py",
   "mimetype": "text/x-python",
   "name": "python",
   "nbconvert_exporter": "python",
   "pygments_lexer": "ipython3",
   "version": "3.6.2"
  },
  "varInspector": {
   "cols": {
    "lenName": 16,
    "lenType": 16,
    "lenVar": 40
   },
   "kernels_config": {
    "python": {
     "delete_cmd_postfix": "",
     "delete_cmd_prefix": "del ",
     "library": "var_list.py",
     "varRefreshCmd": "print(var_dic_list())"
    },
    "r": {
     "delete_cmd_postfix": ") ",
     "delete_cmd_prefix": "rm(",
     "library": "var_list.r",
     "varRefreshCmd": "cat(var_dic_list()) "
    }
   },
   "oldHeight": 456,
   "position": {
    "height": "478px",
    "left": "1070px",
    "right": "20px",
    "top": "120px",
    "width": "349px"
   },
   "types_to_exclude": [
    "module",
    "function",
    "builtin_function_or_method",
    "instance",
    "_Feature"
   ],
   "varInspector_section_display": "block",
   "window_display": false
  }
 },
 "nbformat": 4,
 "nbformat_minor": 2
}
